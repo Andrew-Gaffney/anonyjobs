{
 "cells": [
  {
   "cell_type": "code",
   "execution_count": 31,
   "metadata": {
    "collapsed": true
   },
   "outputs": [],
   "source": [
    "# Import some dependencies\n",
    "import numpy as np\n",
    "from sklearn import metrics\n",
    "from sklearn.model_selection import train_test_split\n",
    "from sklearn.model_selection import cross_val_score\n",
    "import pandas as pd\n",
    "\n",
    "# GET target for the live dataset\n",
    "url = 'https://serene-forest-99801.herokuapp.com/api/allData'"
   ]
  },
  {
   "cell_type": "code",
   "execution_count": 32,
   "metadata": {
    "collapsed": true
   },
   "outputs": [],
   "source": [
    "# Set up vectorizers to transform data\n",
    "from sklearn.feature_extraction.text import CountVectorizer\n",
    "from sklearn.feature_extraction.text import TfidfTransformer\n",
    "\n",
    "vectorizer = CountVectorizer()\n",
    "tfidf = TfidfTransformer()"
   ]
  },
  {
   "cell_type": "code",
   "execution_count": 33,
   "metadata": {},
   "outputs": [],
   "source": [
    "# Import the live dataset\n",
    "dataset = pd.read_json(url)"
   ]
  },
  {
   "cell_type": "code",
   "execution_count": 34,
   "metadata": {},
   "outputs": [
    {
     "name": "stdout",
     "output_type": "stream",
     "text": [
      "0                    Woman\n",
      "1                      Man\n",
      "2                  Agender\n",
      "3              Androgynous\n",
      "4                      Man\n",
      "5                      Man\n",
      "6                      Man\n",
      "7                      Man\n",
      "8                      Man\n",
      "9                      Man\n",
      "10                     Man\n",
      "11                   Woman\n",
      "12                     Man\n",
      "13                     Man\n",
      "14                   Woman\n",
      "15                   Woman\n",
      "16                     Man\n",
      "17                     Man\n",
      "18                     Man\n",
      "19                   Woman\n",
      "20                     Man\n",
      "21                   Woman\n",
      "22                     Man\n",
      "23                     Man\n",
      "24                   Woman\n",
      "25             Transgender\n",
      "26                     Man\n",
      "27           Transfeminine\n",
      "28           Transfeminine\n",
      "29                   Woman\n",
      "              ...         \n",
      "58                   Woman\n",
      "59                   Woman\n",
      "60                     Man\n",
      "61                     Man\n",
      "62                     Man\n",
      "63                     Man\n",
      "64             unspecified\n",
      "65             unspecified\n",
      "66             unspecified\n",
      "67             unspecified\n",
      "68             unspecified\n",
      "69                   Woman\n",
      "70    Gender_Nonconforming\n",
      "71               Trans_Man\n",
      "72                     Man\n",
      "73                     Man\n",
      "74                     Man\n",
      "75               Cis_Woman\n",
      "76                   Woman\n",
      "77                     Man\n",
      "78                   Woman\n",
      "79                   Woman\n",
      "80                   Woman\n",
      "81                     Man\n",
      "82                     Man\n",
      "83                 Cis_Man\n",
      "84               Cis_Woman\n",
      "85               Pangender\n",
      "86                     Man\n",
      "87                   Woman\n",
      "Name: gender, Length: 88, dtype: object\n"
     ]
    }
   ],
   "source": [
    "print(dataset.gender)"
   ]
  },
  {
   "cell_type": "code",
   "execution_count": 35,
   "metadata": {},
   "outputs": [],
   "source": [
    "# Vectorize the data as needed and split into `X` and `y` varibles for training / testing\n",
    "X = tfidf.fit_transform(vectorizer.fit_transform(dataset.writing))\n",
    "\n",
    "y = dataset.gender"
   ]
  },
  {
   "cell_type": "code",
   "execution_count": 36,
   "metadata": {},
   "outputs": [
    {
     "name": "stdout",
     "output_type": "stream",
     "text": [
      "[ 0.22222222  0.36363636  0.44444444  0.55555556  0.625       0.5\n",
      "  0.57142857  0.5         0.5         0.5       ]\n"
     ]
    },
    {
     "name": "stderr",
     "output_type": "stream",
     "text": [
      "/usr/lib64/python3.5/site-packages/sklearn/model_selection/_split.py:581: Warning: The least populated class in y has only 1 members, which is too few. The minimum number of groups for any class cannot be less than n_splits=10.\n",
      "  % (min_groups, self.n_splits)), Warning)\n"
     ]
    }
   ],
   "source": [
    "from sklearn.naive_bayes import MultinomialNB\n",
    "multiNB = MultinomialNB()\n",
    "scores = cross_val_score(multiNB, X, y, cv=10, scoring='accuracy')\n",
    "print(scores)"
   ]
  },
  {
   "cell_type": "code",
   "execution_count": null,
   "metadata": {
    "collapsed": true
   },
   "outputs": [],
   "source": []
  }
 ],
 "metadata": {
  "kernelspec": {
   "display_name": "Python 3",
   "language": "python",
   "name": "python3"
  },
  "language_info": {
   "codemirror_mode": {
    "name": "ipython",
    "version": 3
   },
   "file_extension": ".py",
   "mimetype": "text/x-python",
   "name": "python",
   "nbconvert_exporter": "python",
   "pygments_lexer": "ipython3",
   "version": "3.5.3"
  }
 },
 "nbformat": 4,
 "nbformat_minor": 2
}
