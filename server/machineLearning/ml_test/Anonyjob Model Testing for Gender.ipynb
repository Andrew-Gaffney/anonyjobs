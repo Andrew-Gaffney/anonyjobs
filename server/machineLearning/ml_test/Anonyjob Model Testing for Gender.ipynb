{
 "cells": [
  {
   "cell_type": "code",
   "execution_count": 1,
   "metadata": {
    "collapsed": true
   },
   "outputs": [],
   "source": [
    "# Import some dependencies\n",
    "import numpy as np\n",
    "from sklearn import metrics\n",
    "from sklearn.model_selection import train_test_split\n",
    "from sklearn.model_selection import cross_val_score\n",
    "import pandas as pd\n",
    "\n",
    "# GET target for the live dataset\n",
    "url = 'https://serene-forest-99801.herokuapp.com/api/allData'\n",
    "\n",
    "# Define variables to hold plotting info for the final graph\n",
    "accuracy_yAxis = []\n",
    "models_xAxis = []"
   ]
  },
  {
   "cell_type": "code",
   "execution_count": 2,
   "metadata": {
    "collapsed": true
   },
   "outputs": [],
   "source": [
    "# Set up vectorizers to transform data\n",
    "from sklearn.feature_extraction.text import CountVectorizer\n",
    "from sklearn.feature_extraction.text import TfidfTransformer\n",
    "\n",
    "vectorizer = CountVectorizer()\n",
    "tfidf = TfidfTransformer()"
   ]
  },
  {
   "cell_type": "code",
   "execution_count": 3,
   "metadata": {
    "collapsed": true
   },
   "outputs": [],
   "source": [
    "# Import the live dataset\n",
    "dataset = pd.read_json(url)"
   ]
  },
  {
   "cell_type": "code",
   "execution_count": 4,
   "metadata": {
    "collapsed": true
   },
   "outputs": [],
   "source": [
    "# An attempt to massage the dataset to produce better results\n",
    "# * Needed to bucket categories so each had 10+ features\n",
    "\n",
    "# Define variable sets for bucketing\n",
    "man = ['Cis_Man']\n",
    "woman = ['Cis_Woman']\n",
    "\n",
    "# Regex for everything not in a defined bucket\n",
    "regex = '^((?!(^Man$|^Woman$|^Other$)).).+$'\n",
    "\n",
    "# Removes 'unspecified' since they are unknowable features\n",
    "# and buckets all others into 'Man', 'Woman', and 'Other'\n",
    "# for model evaluation\n",
    "dataset = dataset[dataset.gender != 'unspecified']\n",
    "dataset['gender'] = dataset['gender'].replace(man, 'Man')\n",
    "dataset['gender'] = dataset['gender'].replace(woman, 'Woman')\n",
    "dataset['gender'] = dataset['gender'].replace(\n",
    "    to_replace=regex,\n",
    "    value='Other',\n",
    "    regex=True\n",
    ")"
   ]
  },
  {
   "cell_type": "code",
   "execution_count": 5,
   "metadata": {
    "collapsed": true
   },
   "outputs": [],
   "source": [
    "# Vectorize the data as needed and split into `X` and `y` varibles for training / testing\n",
    "X = tfidf.fit_transform(vectorizer.fit_transform(dataset.writing))\n",
    "\n",
    "y = dataset.gender"
   ]
  },
  {
   "cell_type": "code",
   "execution_count": 6,
   "metadata": {
    "collapsed": true
   },
   "outputs": [],
   "source": [
    "# Test Multinomial Naive Bayes with K-Fold (10-fold) cross-validation\n",
    "from sklearn.naive_bayes import MultinomialNB\n",
    "multiNB = MultinomialNB()\n",
    "accuracy_yAxis.append(cross_val_score(multiNB, X, y, cv=10, scoring='accuracy').mean())\n",
    "models_xAxis.append('MultinomialNB')\n",
    "#print(cross_val_score(multiNB, X, y, cv=10, scoring='accuracy').mean())"
   ]
  },
  {
   "cell_type": "code",
   "execution_count": 7,
   "metadata": {
    "collapsed": true
   },
   "outputs": [],
   "source": [
    "# Test Bernoulli Naive Bayes with K-Fold (10-fold) cross-validation\n",
    "from sklearn.naive_bayes import BernoulliNB\n",
    "bernoulliNB = BernoulliNB()\n",
    "accuracy_yAxis.append(cross_val_score(bernoulliNB, X, y, cv=10, scoring='accuracy').mean())\n",
    "models_xAxis.append('BernoulliNB')"
   ]
  },
  {
   "cell_type": "code",
   "execution_count": 8,
   "metadata": {
    "collapsed": true
   },
   "outputs": [],
   "source": [
    "# Test Support Vector Machine with K-Fold (10-fold) cross-validation\n",
    "from sklearn.linear_model import SGDClassifier\n",
    "svm = SGDClassifier(loss='hinge', penalty='l2',\n",
    "                   alpha=1e-3, n_iter=5,\n",
    "                   random_state=1)\n",
    "accuracy_yAxis.append(cross_val_score(svm, X, y, cv=10, scoring='accuracy').mean())\n",
    "models_xAxis.append('SVM')"
   ]
  },
  {
   "cell_type": "code",
   "execution_count": 9,
   "metadata": {
    "collapsed": true
   },
   "outputs": [],
   "source": [
    "# Test Logistic Regression with K-Fold (10-fold) cross-validation\n",
    "from sklearn.linear_model import LogisticRegression\n",
    "logreg = LogisticRegression()\n",
    "accuracy_yAxis.append(cross_val_score(logreg, X, y, cv=10, scoring='accuracy').mean())\n",
    "models_xAxis.append('Logistic Regression')"
   ]
  },
  {
   "cell_type": "code",
   "execution_count": 10,
   "metadata": {
    "collapsed": true
   },
   "outputs": [],
   "source": [
    "# Test a range of KNN values with K-Fold (10-fold) cross-validation\n",
    "from sklearn.neighbors import KNeighborsClassifier\n",
    "k_range = range(1,31)\n",
    "topscore = 0\n",
    "topscoreIndex = 0\n",
    "for k in k_range:\n",
    "    knn = KNeighborsClassifier(n_neighbors=k)\n",
    "    score = cross_val_score(knn, X, y, cv=10, scoring='accuracy').mean()\n",
    "    if score >= topscore:\n",
    "        topscore = score\n",
    "        topscoreIndex = k\n",
    "accuracy_yAxis.append(topscore)\n",
    "models_xAxis.append('KNN {0}'.format(topscoreIndex))"
   ]
  },
  {
   "cell_type": "code",
   "execution_count": 11,
   "metadata": {},
   "outputs": [
    {
     "data": {
      "text/plain": [
       "<matplotlib.text.Text at 0x7fd1ef78c6d8>"
      ]
     },
     "execution_count": 11,
     "metadata": {},
     "output_type": "execute_result"
    },
    {
     "data": {
      "image/png": "[encoded data removed]",
      "text/plain": [
       "<matplotlib.figure.Figure at 0x7fd1f332f710>"
      ]
     },
     "metadata": {},
     "output_type": "display_data"
    }
   ],
   "source": [
    "# Graph the accuracy of the tested models\n",
    "import matplotlib.pyplot as plt\n",
    "%matplotlib inline\n",
    "\n",
    "plt.bar(range(len(models_xAxis)), accuracy_yAxis, align='center')\n",
    "plt.xticks(range(len(models_xAxis)), models_xAxis, size='small')\n",
    "plt.xlabel('Accuracy')\n",
    "plt.ylabel('Model')"
   ]
  },
  {
   "cell_type": "code",
   "execution_count": null,
   "metadata": {
    "collapsed": true
   },
   "outputs": [],
   "source": []
  }
 ],
 "metadata": {
  "kernelspec": {
   "display_name": "Python 3",
   "language": "python",
   "name": "python3"
  },
  "language_info": {
   "codemirror_mode": {
    "name": "ipython",
    "version": 3
   },
   "file_extension": ".py",
   "mimetype": "text/x-python",
   "name": "python",
   "nbconvert_exporter": "python",
   "pygments_lexer": "ipython3",
   "version": "3.5.3"
  }
 },
 "nbformat": 4,
 "nbformat_minor": 2
}
