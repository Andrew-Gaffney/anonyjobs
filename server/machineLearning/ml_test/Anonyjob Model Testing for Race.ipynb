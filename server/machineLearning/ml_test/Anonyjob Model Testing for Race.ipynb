{
 "cells": [
  {
   "cell_type": "code",
   "execution_count": 1,
   "metadata": {
    "collapsed": true
   },
   "outputs": [],
   "source": [
    "# Import some dependencies\n",
    "import numpy as np\n",
    "from sklearn import metrics\n",
    "from sklearn.model_selection import train_test_split\n",
    "from sklearn.model_selection import cross_val_score\n",
    "import pandas as pd\n",
    "\n",
    "# GET target for the live dataset\n",
    "url = 'https://serene-forest-99801.herokuapp.com/api/allData'\n",
    "\n",
    "# Define variables to hold plotting info for the final graph\n",
    "accuracy_yAxis = []\n",
    "models_xAxis = []"
   ]
  },
  {
   "cell_type": "code",
   "execution_count": 2,
   "metadata": {
    "collapsed": true
   },
   "outputs": [],
   "source": [
    "# Set up vectorizers to transform data\n",
    "from sklearn.feature_extraction.text import CountVectorizer\n",
    "from sklearn.feature_extraction.text import TfidfTransformer\n",
    "\n",
    "vectorizer = CountVectorizer()\n",
    "tfidf = TfidfTransformer()"
   ]
  },
  {
   "cell_type": "code",
   "execution_count": 15,
   "metadata": {},
   "outputs": [
    {
     "name": "stdout",
     "output_type": "stream",
     "text": [
      "0      American_Indian\n",
      "1        Alaska_Native\n",
      "2                Asian\n",
      "3                Black\n",
      "4                White\n",
      "5                White\n",
      "6                White\n",
      "7                White\n",
      "8                White\n",
      "9                White\n",
      "10               White\n",
      "11               Mixed\n",
      "12               White\n",
      "13               White\n",
      "14               White\n",
      "15               White\n",
      "16         unspecified\n",
      "17         unspecified\n",
      "18         unspecified\n",
      "19         unspecified\n",
      "20               Black\n",
      "21               Asian\n",
      "22               Black\n",
      "23               White\n",
      "24               White\n",
      "25               White\n",
      "26               Black\n",
      "27               White\n",
      "28               Asian\n",
      "29            Filipino\n",
      "            ...       \n",
      "59               White\n",
      "60      Middle_Eastern\n",
      "61               Black\n",
      "62               Black\n",
      "63               Black\n",
      "64               Black\n",
      "65               White\n",
      "66               Asian\n",
      "67               Black\n",
      "68               White\n",
      "69         unspecified\n",
      "70    Pacific_Islander\n",
      "71    Pacific_Islander\n",
      "72               Black\n",
      "73               White\n",
      "74               Black\n",
      "75               White\n",
      "76               White\n",
      "77               White\n",
      "78               Black\n",
      "79               White\n",
      "80               White\n",
      "81               White\n",
      "82               White\n",
      "83               White\n",
      "84               White\n",
      "85     Native_Hawaiian\n",
      "86               White\n",
      "87               White\n",
      "88               White\n",
      "Name: race, Length: 89, dtype: object 0     For those of you folks who do not know who Jos...\n",
      "1     Pre-contact, I’ve been told a lot that there w...\n",
      "2     I have a dog and I love my dog. Television is ...\n",
      "3     I lacked the enthusiasm my then-boyfriend of t...\n",
      "4     I am writing some stuff to test out this great...\n",
      "5                               But did it really work?\n",
      "6     One last time, just to make sure everything is...\n",
      "7     It took too long to refresh last time, so i sh...\n",
      "8                                     Slightly confused\n",
      "9                                    This should fix it\n",
      "10     With this in mind, we can reevaluate the cour...\n",
      "11    I would be a great fit for the position becaus...\n",
      "12    The calls of the vendors echo into the warm ni...\n",
      "13    It's a little trickier with test prep in gener...\n",
      "14    I would be a good software engineer because I ...\n",
      "15    The science behind who gets armed with a prop ...\n",
      "16    This is a writing sample.  It shows a sample o...\n",
      "17    As a motivated and experienced computer engine...\n",
      "18    Dear New York City Office of Emergency Managem...\n",
      "19                    LOOK HERE THIS IS THE NEW WRITING\n",
      "20    When you throw more energy at your work withou...\n",
      "21    The numbers on top of the board represent tick...\n",
      "22    When you throw more energy at your work withou...\n",
      "23    December 2, 2013\\n\\nAndrew Tuttle, Operations ...\n",
      "24                                                     \n",
      "25    I’ve read just about a hundred academic papers...\n",
      "26    When you throw more energy at your work withou...\n",
      "27    Now, I am not a gambler: by nature, and in my ...\n",
      "28    Damon’s not alone. There’s been a backlash to ...\n",
      "29    The film A Dog’s Purpose was beset by controve...\n",
      "                            ...                        \n",
      "59    I recently made the mistake of telling my so-c...\n",
      "60    As many believe, it is not Foreign Minister Ah...\n",
      "61    While the internet may be clutching its pearls...\n",
      "62    When I cross a parking lot at night and see a ...\n",
      "63    And as far as (foreign) bad guys, I think I ma...\n",
      "64    The summer in question turned out to be the Lo...\n",
      "65    The video begins with Ora, donning a tan suit ...\n",
      "66    This whole thing sticks with us - with women w...\n",
      "67    Any prosecutor that actually tries cases won’t...\n",
      "68    Even the most neutral emails sound menacing, u...\n",
      "69    THIS IS MY WRITING SAMPLE LOOK HERE TO SEE IF ...\n",
      "70                            NEW WRITING SAMPLE ******\n",
      "71                                       LOOK LOOK LOOK\n",
      "72                                  I'm a cool new user\n",
      "73    Hi guys. I am writing to you to help with your...\n",
      "74                                   New writing sample\n",
      "75    Good morning, Nancy!\\n\\nNear the end of 2016, ...\n",
      "76    Dear Director,\\n\\nI am interested in the Analy...\n",
      "77    To Whom It May Concern:\\nI am a disciplined, q...\n",
      "78    Hello Aha! Team,\\n \\nI’m very interested in th...\n",
      "79    This past weekend, I attended a conference for...\n",
      "80    Major League Soccer embraces its tech-savvy fa...\n",
      "81    When I write I tend to stick to long running s...\n",
      "82    Hi guys. I am writing to you to help with your...\n",
      "83                                                     \n",
      "84                                                     \n",
      "85    Sometimes my arms bend back. That's why I'm pe...\n",
      "86    My work and internship experience – at a consu...\n",
      "87    \\nDaisy Burr\\n779 Riverside Drive Apt. C63\\nNe...\n",
      "88    First of all I wanted to thank you guys so muc...\n",
      "Name: writing, Length: 89, dtype: object\n"
     ]
    }
   ],
   "source": [
    "# Import the live dataset\n",
    "dataset = pd.read_json(url)\n",
    "\n",
    "print(dataset.race, dataset.writing)"
   ]
  },
  {
   "cell_type": "code",
   "execution_count": 16,
   "metadata": {},
   "outputs": [
    {
     "name": "stdout",
     "output_type": "stream",
     "text": [
      "0       PoC\n",
      "1       PoC\n",
      "2       PoC\n",
      "3       PoC\n",
      "4     White\n",
      "5     White\n",
      "6     White\n",
      "7     White\n",
      "8     White\n",
      "9     White\n",
      "10    White\n",
      "11      PoC\n",
      "12    White\n",
      "13    White\n",
      "14    White\n",
      "15    White\n",
      "20      PoC\n",
      "21      PoC\n",
      "22      PoC\n",
      "23    White\n",
      "24    White\n",
      "25    White\n",
      "26      PoC\n",
      "27    White\n",
      "28      PoC\n",
      "29      PoC\n",
      "30    White\n",
      "31    White\n",
      "32      PoC\n",
      "33    White\n",
      "      ...  \n",
      "58    White\n",
      "59    White\n",
      "60      PoC\n",
      "61      PoC\n",
      "62      PoC\n",
      "63      PoC\n",
      "64      PoC\n",
      "65    White\n",
      "66      PoC\n",
      "67      PoC\n",
      "68    White\n",
      "70      PoC\n",
      "71      PoC\n",
      "72      PoC\n",
      "73    White\n",
      "74      PoC\n",
      "75    White\n",
      "76    White\n",
      "77    White\n",
      "78      PoC\n",
      "79    White\n",
      "80    White\n",
      "81    White\n",
      "82    White\n",
      "83    White\n",
      "84    White\n",
      "85      PoC\n",
      "86    White\n",
      "87    White\n",
      "88    White\n",
      "Name: race, Length: 82, dtype: object 0     For those of you folks who do not know who Jos...\n",
      "1     Pre-contact, I’ve been told a lot that there w...\n",
      "2     I have a dog and I love my dog. Television is ...\n",
      "3     I lacked the enthusiasm my then-boyfriend of t...\n",
      "4     I am writing some stuff to test out this great...\n",
      "5                               But did it really work?\n",
      "6     One last time, just to make sure everything is...\n",
      "7     It took too long to refresh last time, so i sh...\n",
      "8                                     Slightly confused\n",
      "9                                    This should fix it\n",
      "10     With this in mind, we can reevaluate the cour...\n",
      "11    I would be a great fit for the position becaus...\n",
      "12    The calls of the vendors echo into the warm ni...\n",
      "13    It's a little trickier with test prep in gener...\n",
      "14    I would be a good software engineer because I ...\n",
      "15    The science behind who gets armed with a prop ...\n",
      "20    When you throw more energy at your work withou...\n",
      "21    The numbers on top of the board represent tick...\n",
      "22    When you throw more energy at your work withou...\n",
      "23    December 2, 2013\\n\\nAndrew Tuttle, Operations ...\n",
      "24                                                     \n",
      "25    I’ve read just about a hundred academic papers...\n",
      "26    When you throw more energy at your work withou...\n",
      "27    Now, I am not a gambler: by nature, and in my ...\n",
      "28    Damon’s not alone. There’s been a backlash to ...\n",
      "29    The film A Dog’s Purpose was beset by controve...\n",
      "30    The Senate bill also focuses on abortion cover...\n",
      "31    One way or another, rough sex is more intense ...\n",
      "32    We explain why a certain library is chosen and...\n",
      "33    On June 18, I was in Toronto for the triennial...\n",
      "                            ...                        \n",
      "58    Naturally, Leilani sends her mother some skull...\n",
      "59    I recently made the mistake of telling my so-c...\n",
      "60    As many believe, it is not Foreign Minister Ah...\n",
      "61    While the internet may be clutching its pearls...\n",
      "62    When I cross a parking lot at night and see a ...\n",
      "63    And as far as (foreign) bad guys, I think I ma...\n",
      "64    The summer in question turned out to be the Lo...\n",
      "65    The video begins with Ora, donning a tan suit ...\n",
      "66    This whole thing sticks with us - with women w...\n",
      "67    Any prosecutor that actually tries cases won’t...\n",
      "68    Even the most neutral emails sound menacing, u...\n",
      "70                            NEW WRITING SAMPLE ******\n",
      "71                                       LOOK LOOK LOOK\n",
      "72                                  I'm a cool new user\n",
      "73    Hi guys. I am writing to you to help with your...\n",
      "74                                   New writing sample\n",
      "75    Good morning, Nancy!\\n\\nNear the end of 2016, ...\n",
      "76    Dear Director,\\n\\nI am interested in the Analy...\n",
      "77    To Whom It May Concern:\\nI am a disciplined, q...\n",
      "78    Hello Aha! Team,\\n \\nI’m very interested in th...\n",
      "79    This past weekend, I attended a conference for...\n",
      "80    Major League Soccer embraces its tech-savvy fa...\n",
      "81    When I write I tend to stick to long running s...\n",
      "82    Hi guys. I am writing to you to help with your...\n",
      "83                                                     \n",
      "84                                                     \n",
      "85    Sometimes my arms bend back. That's why I'm pe...\n",
      "86    My work and internship experience – at a consu...\n",
      "87    \\nDaisy Burr\\n779 Riverside Drive Apt. C63\\nNe...\n",
      "88    First of all I wanted to thank you guys so muc...\n",
      "Name: writing, Length: 82, dtype: object\n"
     ]
    }
   ],
   "source": [
    "# An attempt to massage the dataset to produce better results\n",
    "# * Needed to bucket categories so each had 10+ features\n",
    "\n",
    "# Regex for everything not in a defined bucket\n",
    "regex = '^((?!(^White$)).).+$'\n",
    "\n",
    "# Removes 'unspecified' since they are unknowable features\n",
    "# and buckets all others into 'White' or 'PoC'\n",
    "# for model evaluation\n",
    "dataset = dataset[dataset.race != 'unspecified']\n",
    "dataset['race'] = dataset['race'].replace(\n",
    "    to_replace=regex,\n",
    "    value='PoC',\n",
    "    regex=True\n",
    ")\n",
    "\n",
    "print(dataset.race, dataset.writing)"
   ]
  },
  {
   "cell_type": "code",
   "execution_count": 5,
   "metadata": {
    "collapsed": true
   },
   "outputs": [],
   "source": [
    "# Vectorize the data as needed and split into `X` and `y` varibles for training / testing\n",
    "X = tfidf.fit_transform(vectorizer.fit_transform(dataset.writing))\n",
    "\n",
    "y = dataset.race"
   ]
  },
  {
   "cell_type": "code",
   "execution_count": 6,
   "metadata": {
    "collapsed": true
   },
   "outputs": [],
   "source": [
    "# Test Multinomial Naive Bayes with K-Fold (10-fold) cross-validation\n",
    "from sklearn.naive_bayes import MultinomialNB\n",
    "multiNB = MultinomialNB()\n",
    "accuracy_yAxis.append(cross_val_score(multiNB, X, y, cv=10, scoring='accuracy').mean())\n",
    "models_xAxis.append('MultinomialNB')"
   ]
  },
  {
   "cell_type": "code",
   "execution_count": 7,
   "metadata": {
    "collapsed": true
   },
   "outputs": [],
   "source": [
    "# Test Bernoulli Naive Bayes with K-Fold (10-fold) cross-validation\n",
    "from sklearn.naive_bayes import BernoulliNB\n",
    "bernoulliNB = BernoulliNB()\n",
    "accuracy_yAxis.append(cross_val_score(bernoulliNB, X, y, cv=10, scoring='accuracy').mean())\n",
    "models_xAxis.append('BernoulliNB')\n",
    "#print(cross_val_score(bernoulliNB, X, y, cv=10, scoring='accuracy').mean())"
   ]
  },
  {
   "cell_type": "code",
   "execution_count": 8,
   "metadata": {
    "collapsed": true
   },
   "outputs": [],
   "source": [
    "# Test Support Vector Machine with K-Fold (10-fold) cross-validation\n",
    "from sklearn.linear_model import SGDClassifier\n",
    "svm = SGDClassifier(loss='hinge', penalty='l2',\n",
    "                   alpha=1e-3, n_iter=5,\n",
    "                   random_state=1)\n",
    "accuracy_yAxis.append(cross_val_score(svm, X, y, cv=10, scoring='accuracy').mean())\n",
    "models_xAxis.append('SVM')"
   ]
  },
  {
   "cell_type": "code",
   "execution_count": 9,
   "metadata": {
    "collapsed": true
   },
   "outputs": [],
   "source": [
    "# Test Logistic Regression with K-Fold (10-fold) cross-validation\n",
    "from sklearn.linear_model import LogisticRegression\n",
    "logreg = LogisticRegression()\n",
    "accuracy_yAxis.append(cross_val_score(logreg, X, y, cv=10, scoring='accuracy').mean())\n",
    "models_xAxis.append('Logistic Regression')"
   ]
  },
  {
   "cell_type": "code",
   "execution_count": 10,
   "metadata": {
    "collapsed": true
   },
   "outputs": [],
   "source": [
    "# Test a range of KNN values with K-Fold (10-fold) cross-validation\n",
    "# and pick out the optimal K value\n",
    "from sklearn.neighbors import KNeighborsClassifier\n",
    "k_range = range(1,31)\n",
    "topscore = 0\n",
    "topscoreIndex = 0\n",
    "for k in k_range:\n",
    "    knn = KNeighborsClassifier(n_neighbors=k)\n",
    "    score = cross_val_score(knn, X, y, cv=10, scoring='accuracy').mean()\n",
    "    if score >= topscore:\n",
    "        topscore = score\n",
    "        topscoreIndex = k\n",
    "accuracy_yAxis.append(topscore)\n",
    "models_xAxis.append('KNN {0}'.format(topscoreIndex))"
   ]
  },
  {
   "cell_type": "code",
   "execution_count": 11,
   "metadata": {},
   "outputs": [
    {
     "data": {
      "text/plain": [
       "<matplotlib.text.Text at 0x7f15a0817588>"
      ]
     },
     "execution_count": 11,
     "metadata": {},
     "output_type": "execute_result"
    },
    {
     "data": {
      "image/png": "[encoded data removed]",
      "text/plain": [
       "<matplotlib.figure.Figure at 0x7f15a43c8208>"
      ]
     },
     "metadata": {},
     "output_type": "display_data"
    }
   ],
   "source": [
    "# Graph the accuracy of the tested models\n",
    "import matplotlib.pyplot as plt\n",
    "%matplotlib inline\n",
    "\n",
    "plt.bar(range(len(models_xAxis)), accuracy_yAxis, align='center')\n",
    "plt.xticks(range(len(models_xAxis)), models_xAxis, size='small')\n",
    "plt.xlabel('Accuracy')\n",
    "plt.ylabel('Model')"
   ]
  },
  {
   "cell_type": "code",
   "execution_count": null,
   "metadata": {
    "collapsed": true
   },
   "outputs": [],
   "source": []
  }
 ],
 "metadata": {
  "kernelspec": {
   "display_name": "Python 3",
   "language": "python",
   "name": "python3"
  },
  "language_info": {
   "codemirror_mode": {
    "name": "ipython",
    "version": 3
   },
   "file_extension": ".py",
   "mimetype": "text/x-python",
   "name": "python",
   "nbconvert_exporter": "python",
   "pygments_lexer": "ipython3",
   "version": "3.5.3"
  }
 },
 "nbformat": 4,
 "nbformat_minor": 2
}
