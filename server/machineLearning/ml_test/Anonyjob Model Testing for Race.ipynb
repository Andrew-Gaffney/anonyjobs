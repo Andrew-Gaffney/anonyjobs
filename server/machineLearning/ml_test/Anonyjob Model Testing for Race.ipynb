{
 "cells": [
  {
   "cell_type": "code",
   "execution_count": 14,
   "metadata": {
    "collapsed": true
   },
   "outputs": [],
   "source": [
    "# Import some dependencies\n",
    "import numpy as np\n",
    "from sklearn import metrics\n",
    "from sklearn.model_selection import train_test_split\n",
    "from sklearn.model_selection import cross_val_score\n",
    "import pandas as pd\n",
    "\n",
    "# GET target for the live dataset\n",
    "url = 'https://serene-forest-99801.herokuapp.com/api/allData'"
   ]
  },
  {
   "cell_type": "code",
   "execution_count": 15,
   "metadata": {
    "collapsed": true
   },
   "outputs": [],
   "source": [
    "# Set up vectorizers to transform data\n",
    "from sklearn.feature_extraction.text import CountVectorizer\n",
    "from sklearn.feature_extraction.text import TfidfTransformer\n",
    "\n",
    "vectorizer = CountVectorizer()\n",
    "tfidf = TfidfTransformer()"
   ]
  },
  {
   "cell_type": "code",
   "execution_count": 16,
   "metadata": {},
   "outputs": [],
   "source": [
    "# Import the live dataset\n",
    "dataset = pd.read_json(url)"
   ]
  },
  {
   "cell_type": "code",
   "execution_count": 17,
   "metadata": {},
   "outputs": [],
   "source": [
    "# An attempt to massage the dataset to produce better results\n",
    "# * Needed to bucket categories so each had 10+ features\n",
    "\n",
    "# Regex for everything not in a defined bucket\n",
    "regex = '^((?!(^White$)).).+$'\n",
    "\n",
    "# Removes 'unspecified' since they are unknowable features\n",
    "# and buckets all others into 'White' or 'PoC'\n",
    "# for model evaluation\n",
    "dataset = dataset[dataset.race != 'unspecified']\n",
    "dataset['race'] = dataset['race'].replace(\n",
    "    to_replace=regex,\n",
    "    value='PoC',\n",
    "    regex=True\n",
    ")"
   ]
  },
  {
   "cell_type": "code",
   "execution_count": 18,
   "metadata": {
    "collapsed": true
   },
   "outputs": [],
   "source": [
    "# Vectorize the data as needed and split into `X` and `y` varibles for training / testing\n",
    "X = tfidf.fit_transform(vectorizer.fit_transform(dataset.writing))\n",
    "\n",
    "y = dataset.race"
   ]
  },
  {
   "cell_type": "code",
   "execution_count": 19,
   "metadata": {},
   "outputs": [
    {
     "name": "stdout",
     "output_type": "stream",
     "text": [
      "0.668650793651\n"
     ]
    }
   ],
   "source": [
    "# Test Bernoulli Naive Bayes with K-Fold (10-fold) cross-validation\n",
    "from sklearn.naive_bayes import MultinomialNB\n",
    "multiNB = MultinomialNB()\n",
    "print(cross_val_score(multiNB, X, y, cv=10, scoring='accuracy').mean())"
   ]
  },
  {
   "cell_type": "code",
   "execution_count": 20,
   "metadata": {},
   "outputs": [
    {
     "name": "stdout",
     "output_type": "stream",
     "text": [
      "0.569642857143\n"
     ]
    }
   ],
   "source": [
    "# Test Multinomial Naive Bayes with K-Fold (10-fold) cross-validation\n",
    "from sklearn.naive_bayes import BernoulliNB\n",
    "bernoulliNB = BernoulliNB()\n",
    "print(cross_val_score(bernoulliNB, X, y, cv=10, scoring='accuracy').mean())"
   ]
  },
  {
   "cell_type": "code",
   "execution_count": 21,
   "metadata": {},
   "outputs": [
    {
     "name": "stdout",
     "output_type": "stream",
     "text": [
      "0.60753968254\n"
     ]
    }
   ],
   "source": [
    "# Test Logistic Regression with K-Fold (10-fold) cross-validation\n",
    "from sklearn.linear_model import LogisticRegression\n",
    "logreg = LogisticRegression()\n",
    "print(cross_val_score(logreg, X, y, cv=10, scoring='accuracy').mean())"
   ]
  },
  {
   "cell_type": "code",
   "execution_count": null,
   "metadata": {
    "collapsed": true
   },
   "outputs": [],
   "source": []
  }
 ],
 "metadata": {
  "kernelspec": {
   "display_name": "Python 3",
   "language": "python",
   "name": "python3"
  },
  "language_info": {
   "codemirror_mode": {
    "name": "ipython",
    "version": 3
   },
   "file_extension": ".py",
   "mimetype": "text/x-python",
   "name": "python",
   "nbconvert_exporter": "python",
   "pygments_lexer": "ipython3",
   "version": "3.5.3"
  }
 },
 "nbformat": 4,
 "nbformat_minor": 2
}
